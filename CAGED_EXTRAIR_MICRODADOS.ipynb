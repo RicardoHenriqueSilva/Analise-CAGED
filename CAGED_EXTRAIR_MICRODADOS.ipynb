{
 "cells": [
  {
   "cell_type": "code",
   "execution_count": 2,
   "id": "567f4c88",
   "metadata": {},
   "outputs": [],
   "source": [
    "import os\n",
    "import urllib.request\n",
    "import py7zr\n",
    "import pandas as pd\n",
    "from sqlalchemy import create_engine\n",
    "import shutil\n",
    "import unicodedata"
   ]
  },
  {
   "cell_type": "code",
   "execution_count": 49,
   "id": "152121e7",
   "metadata": {
    "scrolled": true
   },
   "outputs": [
    {
     "name": "stdout",
     "output_type": "stream",
     "text": [
      "Digite o número do mês, sempre com dois dígitos (ex: 01 para janeiro): 12\n",
      "Digite o ano (ex: 2023): 2021\n",
      "Download concluído.\n"
     ]
    }
   ],
   "source": [
    "\n",
    "# Solicitar ao usuário o número do mês e o ano desejados\n",
    "mes = input(\"Digite o número do mês, sempre com dois dígitos (ex: 01 para janeiro): \")\n",
    "ano = input(\"Digite o ano (ex: 2023): \")\n",
    "\n",
    "# URL do arquivo no FTP\n",
    "file_url = f\"ftp://ftp.mtps.gov.br/pdet/microdados/NOVO%20CAGED/{ano}/{ano}{mes}/CAGEDMOV{ano}{mes}.7z\"\n",
    "\n",
    "# Diretório local para salvar o arquivo baixado\n",
    "local_dir = \"C:/Users/ricardo/Downloads\"\n",
    "\n",
    "# Nome do arquivo local\n",
    "local_file = f\"CAGEDMOV{ano}{mes}.7z\"\n",
    "\n",
    "# Baixar o arquivo do FTP\n",
    "urllib.request.urlretrieve(file_url, filename=os.path.join(local_dir, local_file))\n",
    "\n",
    "print(\"Download concluído.\")"
   ]
  },
  {
   "cell_type": "code",
   "execution_count": 50,
   "id": "f940c65c",
   "metadata": {},
   "outputs": [
    {
     "name": "stdout",
     "output_type": "stream",
     "text": [
      "Arquivo CAGEDMOV202112 descompactados e salvos em: C:/Users/ricardo/Desktop/CAGED/DADOS BRUTOS\n"
     ]
    }
   ],
   "source": [
    "# Diretório local de download\n",
    "download_dir = \"C:/Users/ricardo/Downloads\"\n",
    "\n",
    "# Diretório para salvar os arquivos descompactados\n",
    "extracted_dir = \"C:/Users/ricardo/Desktop/CAGED/DADOS BRUTOS\"\n",
    "\n",
    "# Nome do arquivo compactado\n",
    "zip_file = f\"CAGEDMOV{ano}{mes}.7z\"\n",
    "\n",
    "# Caminho completo para o arquivo compactado\n",
    "zip_path = os.path.join(download_dir, zip_file)\n",
    "\n",
    "# Verificar se o arquivo compactado existe na pasta de downloads\n",
    "if os.path.exists(zip_path):\n",
    "    # Descompactar o arquivo\n",
    "    with py7zr.SevenZipFile(zip_path, mode='r') as z:\n",
    "        z.extractall(extracted_dir)\n",
    "    print(f\"Arquivo CAGEDMOV{ano}{mes} descompactados e salvos em:\", extracted_dir)\n",
    "else:\n",
    "    print(\"O arquivo compactado não foi encontrado na pasta de downloads.\")"
   ]
  },
  {
   "cell_type": "code",
   "execution_count": 19,
   "id": "38437ee9",
   "metadata": {},
   "outputs": [
    {
     "name": "stdout",
     "output_type": "stream",
     "text": [
      "Colunas presentes no arquivo:\n",
      "['competênciamov', 'região', 'uf', 'município', 'seção', 'subclasse', 'saldomovimentação', 'cbo2002ocupação', 'categoria', 'graudeinstrução', 'idade', 'horascontratuais', 'raçacor', 'sexo', 'tipoempregador', 'tipoestabelecimento', 'tipomovimentação', 'tipodedeficiência', 'indtrabintermitente', 'indtrabparcial', 'salário', 'tamestabjan', 'indicadoraprendiz', 'origemdainformação', 'competênciadec', 'indicadordeforadoprazo', 'unidadesaláriocódigo', 'valorsaláriofixo']\n"
     ]
    }
   ],
   "source": [
    "#Descobrindo as colunas presentes no Arqvuio .txt\n",
    "import pandas as pd\n",
    "\n",
    "# Ler as primeiras linhas do arquivo .txt para descobrir as colunas\n",
    "n_linhas_para_leitura = 5  # Defina o número de linhas a serem lidas para inferir as colunas\n",
    "with open(arquivo_descompactado, 'r', encoding='utf-8') as f:\n",
    "    colunas = pd.read_csv(f, nrows=n_linhas_para_leitura, delimiter=';').columns.tolist()\n",
    "\n",
    "# Imprimir as colunas descobertas\n",
    "print(\"Colunas presentes no arquivo:\")\n",
    "print(colunas)"
   ]
  },
  {
   "cell_type": "code",
   "execution_count": 23,
   "id": "72d95006",
   "metadata": {},
   "outputs": [
    {
     "name": "stdout",
     "output_type": "stream",
     "text": [
      "['competenciamov', 'regiao', 'uf', 'municipio', 'secao', 'subclasse', 'saldomovimentacao', 'cbo2002ocupacao', 'categoria', 'graudeinstrucao', 'idade', 'horascontratuais', 'racacor', 'sexo', 'tipoempregador', 'tipoestabelecimento', 'tipomovimentacao', 'tipodedeficiencia', 'indtrabintermitente', 'indtrabparcial', 'salario', 'tamestabjan', 'indicadoraprendiz', 'origemdainformacao', 'competenciadec', 'indicadordeforadoprazo', 'unidadesalariocodigo', 'valorsalariofixo']\n"
     ]
    }
   ],
   "source": [
    "#remover os caracteres \"especiais\" das colunas antes de criar o banco de dados\n",
    "# Função para remover caracteres especiais e espaços dos nomes das colunas\n",
    "def limpar_nome_coluna(nome):\n",
    "    nome_normalizado = unicodedata.normalize('NFKD', nome).encode('ascii', 'ignore').decode('utf-8')\n",
    "    return nome_normalizado.replace(' ', '_')\n",
    "\n",
    "# Lista de nomes de colunas limpos\n",
    "colunas_limpos = [limpar_nome_coluna(coluna) for coluna in colunas]\n",
    "print(colunas_limpos)\n"
   ]
  },
  {
   "cell_type": "code",
   "execution_count": 24,
   "id": "cdd35c0d",
   "metadata": {},
   "outputs": [
    {
     "name": "stdout",
     "output_type": "stream",
     "text": [
      "Query SQL para criar a tabela no PostgreSQL:\n",
      "\n",
      "-- DROP TABLE IF EXISTS \"2023\".\"01-2023\";\n",
      "\n",
      "CREATE TABLE IF NOT EXISTS \"2023\".\"01-2023\"\n",
      "(\n",
      "    \"competenciamov\" integer, \"regiao\" integer, \"uf\" integer, \"municipio\" integer, \"secao\" character varying(255), \"subclasse\" integer, \"saldomovimentacao\" integer, \"cbo2002ocupacao\" integer, \"categoria\" integer, \"graudeinstrucao\" integer, \"idade\" integer, \"horascontratuais\" character varying(255), \"racacor\" integer, \"sexo\" integer, \"tipoempregador\" integer, \"tipoestabelecimento\" integer, \"tipomovimentacao\" integer, \"tipodedeficiencia\" integer, \"indtrabintermitente\" integer, \"indtrabparcial\" integer, \"salario\" character varying(255), \"tamestabjan\" integer, \"indicadoraprendiz\" integer, \"origemdainformacao\" integer, \"competenciadec\" integer, \"indicadordeforadoprazo\" integer, \"unidadesalariocodigo\" integer, \"valorsalariofixo\" character varying(255)\n",
      ")\n",
      "\n",
      "TABLESPACE pg_default;\n",
      "\n",
      "ALTER TABLE IF EXISTS \"2023\".\"01-2023\"\n",
      "    OWNER to postgres;\n",
      "\n"
     ]
    }
   ],
   "source": [
    "# Gerar a query SQL para criar a tabela no PostgreSQL (se necessário)\n",
    "# Lista de tipos de dados padrão para todas as colunas (você pode ajustar conforme necessário)\n",
    "tipos_dados = ['integer', 'integer', 'integer', 'integer', 'character varying(255)', 'integer', 'integer', 'integer', 'integer', 'integer', 'integer', 'character varying(255)', 'integer', 'integer', 'integer', 'integer', 'integer', 'integer', 'integer', 'integer', 'character varying(255)', 'integer', 'integer', 'integer', 'integer', 'integer', 'integer', 'character varying(255)']\n",
    "\n",
    "# Gerar a query SQL para criar a tabela no PostgreSQL\n",
    "query_criar_tabela = f\"\"\"\n",
    "-- DROP TABLE IF EXISTS \"{ano}\".\"{mes}-{ano}\";\n",
    "\n",
    "CREATE TABLE IF NOT EXISTS \"{ano}\".\"{mes}-{ano}\"\n",
    "(\n",
    "    {', '.join([f'\"{coluna}\" {tipo_dado}' for coluna, tipo_dado in zip(colunas_limpos, tipos_dados)])}\n",
    ")\n",
    "\n",
    "TABLESPACE pg_default;\n",
    "\n",
    "ALTER TABLE IF EXISTS \"{ano}\".\"{mes}-{ano}\"\n",
    "    OWNER to postgres;\n",
    "\"\"\"\n",
    "\n",
    "print(\"Query SQL para criar a tabela no PostgreSQL:\")\n",
    "print(query_criar_tabela)\n",
    "\n"
   ]
  },
  {
   "cell_type": "code",
   "execution_count": 18,
   "id": "a1aeaf22",
   "metadata": {},
   "outputs": [
    {
     "name": "stdout",
     "output_type": "stream",
     "text": [
      "Query SQL criada:\n",
      "\n",
      "COPY \"2023\".\"01-2023\" (competenciamov, regiao, uf, municipio, secao, subclass, saldomovimentacao, cbo2002ocupacao, categoria, graudeinstrucao, idade, horascontratuais, racacor, sexo, tipoempregador, tipoestabelecimento, tipomovimentacao, tipodedeficiencia, indtrabintermitente, indtrabparcial, salario, tamestabjan, indicadoraprendiz, origemdainformacao, competenciadec, indicadordeforadoprazo, unidadesalariocodigo, valorsalariofixo) \n",
      "FROM 'C:/Users/ricardo/Desktop/CAGED/DADOS BRUTOS/CAGEDMOV202301.txt' \n",
      "WITH (FORMAT CSV, HEADER, DELIMITER ';', ENCODING 'UTF8', QUOTE '\"', ESCAPE '''');\n",
      "\n"
     ]
    }
   ],
   "source": [
    "# Caminho completo para o arquivo descompactado\n",
    "arquivo_descompactado = os.path.join(extracted_dir, f'CAGEDMOV{ano}{mes}.txt')\n",
    "\n",
    "# Substitua as barras invertidas duplicadas por uma única barra invertida\n",
    "arquivo_descompactado = arquivo_descompactado.replace('\\\\', '/')\n",
    "\n",
    "# Query SQL para carregar os dados do arquivo descompactado para o PostgreSQL\n",
    "query_sql = f\"\"\"\n",
    "COPY {nome_tabela} (competenciamov, regiao, uf, municipio, secao, subclass, saldomovimentacao, cbo2002ocupacao, categoria, graudeinstrucao, idade, horascontratuais, racacor, sexo, tipoempregador, tipoestabelecimento, tipomovimentacao, tipodedeficiencia, indtrabintermitente, indtrabparcial, salario, tamestabjan, indicadoraprendiz, origemdainformacao, competenciadec, indicadordeforadoprazo, unidadesalariocodigo, valorsalariofixo) \n",
    "FROM '{arquivo_descompactado}' \n",
    "WITH (FORMAT CSV, HEADER, DELIMITER ';', ENCODING 'UTF8', QUOTE '\"', ESCAPE '''');\n",
    "\"\"\"\n",
    "\n",
    "print(\"Query SQL criada:\")\n",
    "print(query_sql)\n"
   ]
  }
 ],
 "metadata": {
  "kernelspec": {
   "display_name": "Python 3 (ipykernel)",
   "language": "python",
   "name": "python3"
  },
  "language_info": {
   "codemirror_mode": {
    "name": "ipython",
    "version": 3
   },
   "file_extension": ".py",
   "mimetype": "text/x-python",
   "name": "python",
   "nbconvert_exporter": "python",
   "pygments_lexer": "ipython3",
   "version": "3.9.13"
  }
 },
 "nbformat": 4,
 "nbformat_minor": 5
}
